{
 "cells": [
  {
   "cell_type": "code",
   "execution_count": 1,
   "id": "942d40a5-025a-42ec-a0de-34694fd16749",
   "metadata": {},
   "outputs": [
    {
     "data": {
      "text/plain": [
       "['bengali',\n",
       " 'chinese',\n",
       " 'english',\n",
       " 'french',\n",
       " 'german',\n",
       " 'hebrew',\n",
       " 'hindi',\n",
       " 'indonesian',\n",
       " 'italian',\n",
       " 'japanese',\n",
       " 'korean',\n",
       " 'marathi',\n",
       " 'oriya',\n",
       " 'persian',\n",
       " 'portuguese',\n",
       " 'russian',\n",
       " 'spanish',\n",
       " 'swedish',\n",
       " 'telugu',\n",
       " 'thai',\n",
       " 'traditionalchinese',\n",
       " 'turkish']"
      ]
     },
     "execution_count": 1,
     "metadata": {},
     "output_type": "execute_result"
    }
   ],
   "source": [
    "import os\n",
    "os.listdir(r'C:\\Users\\syed ahmed peer\\Desktop\\chatterbot-corpus-master\\chatterbot_corpus\\data')\n"
   ]
  },
  {
   "cell_type": "code",
   "execution_count": 2,
   "id": "39829bc0-e48b-47b2-a145-0c0786e18616",
   "metadata": {},
   "outputs": [],
   "source": [
    "from chatterbot import ChatBot\n",
    "from chatterbot.trainers import ListTrainer\n",
    "import os"
   ]
  },
  {
   "cell_type": "code",
   "execution_count": 3,
   "id": "06b7023f-c2c1-49be-a184-47a668134ea2",
   "metadata": {
    "scrolled": true
   },
   "outputs": [
    {
     "name": "stdout",
     "output_type": "stream",
     "text": [
      "Requirement already satisfied: nltk in c:\\users\\syed ahmed peer\\appdata\\local\\programs\\python\\python313\\lib\\site-packages (3.9.1)\n",
      "Requirement already satisfied: click in c:\\users\\syed ahmed peer\\appdata\\local\\programs\\python\\python313\\lib\\site-packages (from nltk) (8.1.8)\n",
      "Requirement already satisfied: joblib in c:\\users\\syed ahmed peer\\appdata\\local\\programs\\python\\python313\\lib\\site-packages (from nltk) (1.4.2)\n",
      "Requirement already satisfied: regex>=2021.8.3 in c:\\users\\syed ahmed peer\\appdata\\local\\programs\\python\\python313\\lib\\site-packages (from nltk) (2024.11.6)\n",
      "Requirement already satisfied: tqdm in c:\\users\\syed ahmed peer\\appdata\\local\\programs\\python\\python313\\lib\\site-packages (from nltk) (4.67.1)\n",
      "Requirement already satisfied: colorama in c:\\users\\syed ahmed peer\\appdata\\local\\programs\\python\\python313\\lib\\site-packages (from click->nltk) (0.4.6)\n",
      "Note: you may need to restart the kernel to use updated packages.\n"
     ]
    }
   ],
   "source": [
    "pip install nltk"
   ]
  },
  {
   "cell_type": "code",
   "execution_count": 4,
   "id": "ba68285e-b780-47c9-bd81-e23ae5ed8ea2",
   "metadata": {
    "scrolled": true
   },
   "outputs": [
    {
     "name": "stdout",
     "output_type": "stream",
     "text": [
      "^C\n",
      "Note: you may need to restart the kernel to use updated packages.\n"
     ]
    },
    {
     "name": "stderr",
     "output_type": "stream",
     "text": [
      "  error: subprocess-exited-with-error\n",
      "  \n",
      "  pip subprocess to install build dependencies did not run successfully.\n",
      "  exit code: 1\n",
      "  \n",
      "  [103 lines of output]\n",
      "  Ignoring numpy: markers 'python_version < \"3.9\"' don't match your environment\n",
      "  Collecting setuptools\n",
      "    Using cached setuptools-75.6.0-py3-none-any.whl.metadata (6.7 kB)\n",
      "  Collecting cython<3.0,>=0.25\n",
      "    Using cached Cython-0.29.37-py2.py3-none-any.whl.metadata (3.1 kB)\n",
      "  Collecting cymem<2.1.0,>=2.0.2\n",
      "    Using cached cymem-2.0.10-cp313-cp313-win_amd64.whl.metadata (8.6 kB)\n",
      "  Collecting preshed<3.1.0,>=3.0.2\n",
      "    Using cached preshed-3.0.9.tar.gz (14 kB)\n",
      "    Installing build dependencies: started\n",
      "    Installing build dependencies: finished with status 'done'\n",
      "    Getting requirements to build wheel: started\n",
      "    Getting requirements to build wheel: finished with status 'done'\n",
      "    Preparing metadata (pyproject.toml): started\n",
      "    Preparing metadata (pyproject.toml): finished with status 'done'\n",
      "  Collecting murmurhash<1.1.0,>=0.28.0\n",
      "    Using cached murmurhash-1.0.11-cp313-cp313-win_amd64.whl.metadata (2.0 kB)\n",
      "  Collecting thinc<8.4.0,>=8.3.0\n",
      "    Using cached thinc-8.3.2.tar.gz (193 kB)\n",
      "    Installing build dependencies: started\n",
      "    Installing build dependencies: finished with status 'error'\n",
      "    error: subprocess-exited-with-error\n",
      "  \n",
      "    pip subprocess to install build dependencies did not run successfully.\n",
      "    exit code: 1\n",
      "  \n",
      "    [65 lines of output]\n",
      "    Ignoring numpy: markers 'python_version < \"3.9\"' don't match your environment\n",
      "    Collecting setuptools\n",
      "      Using cached setuptools-75.6.0-py3-none-any.whl.metadata (6.7 kB)\n",
      "    Collecting cython<3.0,>=0.25\n",
      "      Using cached Cython-0.29.37-py2.py3-none-any.whl.metadata (3.1 kB)\n",
      "    Collecting murmurhash<1.1.0,>=1.0.2\n",
      "      Using cached murmurhash-1.0.11-cp313-cp313-win_amd64.whl.metadata (2.0 kB)\n",
      "    Collecting cymem<2.1.0,>=2.0.2\n",
      "      Using cached cymem-2.0.10-cp313-cp313-win_amd64.whl.metadata (8.6 kB)\n",
      "    Collecting preshed<3.1.0,>=3.0.2\n",
      "      Using cached preshed-3.0.9.tar.gz (14 kB)\n",
      "      Installing build dependencies: started\n",
      "      Installing build dependencies: finished with status 'done'\n",
      "      Getting requirements to build wheel: started\n",
      "      Getting requirements to build wheel: finished with status 'done'\n",
      "      Preparing metadata (pyproject.toml): started\n",
      "      Preparing metadata (pyproject.toml): finished with status 'done'\n",
      "    Collecting blis<1.1.0,>=1.0.0\n",
      "      Using cached blis-1.0.2-cp313-cp313-win_amd64.whl.metadata (7.8 kB)\n",
      "    Collecting numpy<2.1.0,>=2.0.0\n",
      "      Using cached numpy-2.0.2.tar.gz (18.9 MB)\n",
      "      Installing build dependencies: started\n",
      "      Installing build dependencies: finished with status 'done'\n",
      "      Getting requirements to build wheel: started\n",
      "      Getting requirements to build wheel: finished with status 'done'\n",
      "      Installing backend dependencies: started\n",
      "      Installing backend dependencies: finished with status 'done'\n",
      "      Preparing metadata (pyproject.toml): started\n",
      "      Preparing metadata (pyproject.toml): finished with status 'error'\n",
      "      error: subprocess-exited-with-error\n",
      "  \n",
      "      Preparing metadata (pyproject.toml) did not run successfully.\n",
      "      exit code: 1\n",
      "  \n",
      "      [19 lines of output]\n",
      "      + C:\\Users\\syed ahmed peer\\AppData\\Local\\Programs\\Python\\Python313\\python.exe C:\\Users\\syed ahmed peer\\AppData\\Local\\Temp\\pip-install-24k9faix\\numpy_d60bdd32b21b4166a33eda2146a72d32\\vendored-meson\\meson\\meson.py setup C:\\Users\\syed ahmed peer\\AppData\\Local\\Temp\\pip-install-24k9faix\\numpy_d60bdd32b21b4166a33eda2146a72d32 C:\\Users\\syed ahmed peer\\AppData\\Local\\Temp\\pip-install-24k9faix\\numpy_d60bdd32b21b4166a33eda2146a72d32\\.mesonpy-pfz8trwp -Dbuildtype=release -Db_ndebug=if-release -Db_vscrt=md --native-file=C:\\Users\\syed ahmed peer\\AppData\\Local\\Temp\\pip-install-24k9faix\\numpy_d60bdd32b21b4166a33eda2146a72d32\\.mesonpy-pfz8trwp\\meson-python-native-file.ini\n",
      "      The Meson build system\n",
      "      Version: 1.4.99\n",
      "      Source dir: C:\\Users\\syed ahmed peer\\AppData\\Local\\Temp\\pip-install-24k9faix\\numpy_d60bdd32b21b4166a33eda2146a72d32\n",
      "      Build dir: C:\\Users\\syed ahmed peer\\AppData\\Local\\Temp\\pip-install-24k9faix\\numpy_d60bdd32b21b4166a33eda2146a72d32\\.mesonpy-pfz8trwp\n",
      "      Build type: native build\n",
      "      Project name: NumPy\n",
      "      Project version: 2.0.2\n",
      "      C compiler for the host machine: gcc (gcc 8.1.0 \"gcc (x86_64-posix-seh-rev0, Built by MinGW-W64 project) 8.1.0\")\n",
      "      C linker for the host machine: gcc ld.bfd 2.30\n",
      "      C++ compiler for the host machine: c++ (gcc 8.1.0 \"c++ (x86_64-posix-seh-rev0, Built by MinGW-W64 project) 8.1.0\")\n",
      "      C++ linker for the host machine: c++ ld.bfd 2.30\n",
      "      Cython compiler for the host machine: cython (cython 3.0.11)\n",
      "      Host machine cpu family: x86_64\n",
      "      Host machine cpu: x86_64\n",
      "  \n",
      "      ..\\meson.build:28:4: ERROR: Problem encountered: NumPy requires GCC >= 8.4\n",
      "  \n",
      "      A full log can be found at C:\\Users\\syed ahmed peer\\AppData\\Local\\Temp\\pip-install-24k9faix\\numpy_d60bdd32b21b4166a33eda2146a72d32\\.mesonpy-pfz8trwp\\meson-logs\\meson-log.txt\n",
      "      [end of output]\n",
      "  \n",
      "      note: This error originates from a subprocess, and is likely not a problem with pip.\n",
      "    error: metadata-generation-failed\n",
      "  \n",
      "    Encountered error while generating package metadata.\n",
      "  \n",
      "    See above for output.\n",
      "  \n",
      "    note: This is an issue with the package mentioned above, not pip.\n",
      "    hint: See above for details.\n",
      "    [end of output]\n",
      "  \n",
      "    note: This error originates from a subprocess, and is likely not a problem with pip.\n",
      "  error: subprocess-exited-with-error\n",
      "  \n",
      "  pip subprocess to install build dependencies did not run successfully.\n",
      "  exit code: 1\n",
      "  \n",
      "  See above for output.\n",
      "  \n",
      "  note: This error originates from a subprocess, and is likely not a problem with pip.\n",
      "  [end of output]\n",
      "  \n",
      "  note: This error originates from a subprocess, and is likely not a problem with pip.\n",
      "error: subprocess-exited-with-error\n",
      "\n",
      "pip subprocess to install build dependencies did not run successfully.\n",
      "exit code: 1\n",
      "\n",
      "See above for output.\n",
      "\n",
      "note: This error originates from a subprocess, and is likely not a problem with pip.\n"
     ]
    },
    {
     "name": "stdout",
     "output_type": "stream",
     "text": [
      "Collecting spacy\n",
      "  Using cached spacy-3.8.2.tar.gz (1.3 MB)\n",
      "  Installing build dependencies: started\n",
      "  Installing build dependencies: finished with status 'error'\n"
     ]
    }
   ],
   "source": [
    "pip install spacy"
   ]
  },
  {
   "cell_type": "code",
   "execution_count": 5,
   "id": "094e9db0-25e8-4fcc-a851-9fc102848ce5",
   "metadata": {
    "scrolled": true
   },
   "outputs": [
    {
     "ename": "ModuleNotFoundError",
     "evalue": "No module named 'spacy'",
     "output_type": "error",
     "traceback": [
      "\u001b[1;31m---------------------------------------------------------------------------\u001b[0m",
      "\u001b[1;31mModuleNotFoundError\u001b[0m                       Traceback (most recent call last)",
      "Cell \u001b[1;32mIn[5], line 1\u001b[0m\n\u001b[1;32m----> 1\u001b[0m kgp\u001b[38;5;241m=\u001b[39m\u001b[43mChatBot\u001b[49m\u001b[43m(\u001b[49m\u001b[38;5;124;43m'\u001b[39;49m\u001b[38;5;124;43mBot\u001b[39;49m\u001b[38;5;124;43m'\u001b[39;49m\u001b[43m)\u001b[49m\n",
      "File \u001b[1;32m~\\AppData\\Local\\Programs\\Python\\Python313\\Lib\\site-packages\\chatterbot\\chatterbot.py:28\u001b[0m, in \u001b[0;36mChatBot.__init__\u001b[1;34m(self, name, **kwargs)\u001b[0m\n\u001b[0;32m     25\u001b[0m \u001b[38;5;66;03m# Logic adapters used by the chat bot\u001b[39;00m\n\u001b[0;32m     26\u001b[0m \u001b[38;5;28mself\u001b[39m\u001b[38;5;241m.\u001b[39mlogic_adapters \u001b[38;5;241m=\u001b[39m []\n\u001b[1;32m---> 28\u001b[0m \u001b[38;5;28mself\u001b[39m\u001b[38;5;241m.\u001b[39mstorage \u001b[38;5;241m=\u001b[39m \u001b[43mutils\u001b[49m\u001b[38;5;241;43m.\u001b[39;49m\u001b[43minitialize_class\u001b[49m\u001b[43m(\u001b[49m\u001b[43mstorage_adapter\u001b[49m\u001b[43m,\u001b[49m\u001b[43m \u001b[49m\u001b[38;5;241;43m*\u001b[39;49m\u001b[38;5;241;43m*\u001b[39;49m\u001b[43mkwargs\u001b[49m\u001b[43m)\u001b[49m\n\u001b[0;32m     30\u001b[0m primary_search_algorithm \u001b[38;5;241m=\u001b[39m IndexedTextSearch(\u001b[38;5;28mself\u001b[39m, \u001b[38;5;241m*\u001b[39m\u001b[38;5;241m*\u001b[39mkwargs)\n\u001b[0;32m     31\u001b[0m text_search_algorithm \u001b[38;5;241m=\u001b[39m TextSearch(\u001b[38;5;28mself\u001b[39m, \u001b[38;5;241m*\u001b[39m\u001b[38;5;241m*\u001b[39mkwargs)\n",
      "File \u001b[1;32m~\\AppData\\Local\\Programs\\Python\\Python313\\Lib\\site-packages\\chatterbot\\utils.py:33\u001b[0m, in \u001b[0;36minitialize_class\u001b[1;34m(data, *args, **kwargs)\u001b[0m\n\u001b[0;32m     30\u001b[0m \u001b[38;5;28;01melse\u001b[39;00m:\n\u001b[0;32m     31\u001b[0m     Class \u001b[38;5;241m=\u001b[39m import_module(data)\n\u001b[1;32m---> 33\u001b[0m     \u001b[38;5;28;01mreturn\u001b[39;00m \u001b[43mClass\u001b[49m\u001b[43m(\u001b[49m\u001b[38;5;241;43m*\u001b[39;49m\u001b[43margs\u001b[49m\u001b[43m,\u001b[49m\u001b[43m \u001b[49m\u001b[38;5;241;43m*\u001b[39;49m\u001b[38;5;241;43m*\u001b[39;49m\u001b[43mkwargs\u001b[49m\u001b[43m)\u001b[49m\n",
      "File \u001b[1;32m~\\AppData\\Local\\Programs\\Python\\Python313\\Lib\\site-packages\\chatterbot\\storage\\sql_storage.py:20\u001b[0m, in \u001b[0;36mSQLStorageAdapter.__init__\u001b[1;34m(self, **kwargs)\u001b[0m\n\u001b[0;32m     19\u001b[0m \u001b[38;5;28;01mdef\u001b[39;00m \u001b[38;5;21m__init__\u001b[39m(\u001b[38;5;28mself\u001b[39m, \u001b[38;5;241m*\u001b[39m\u001b[38;5;241m*\u001b[39mkwargs):\n\u001b[1;32m---> 20\u001b[0m     \u001b[38;5;28;43msuper\u001b[39;49m\u001b[43m(\u001b[49m\u001b[43m)\u001b[49m\u001b[38;5;241;43m.\u001b[39;49m\u001b[38;5;21;43m__init__\u001b[39;49m\u001b[43m(\u001b[49m\u001b[38;5;241;43m*\u001b[39;49m\u001b[38;5;241;43m*\u001b[39;49m\u001b[43mkwargs\u001b[49m\u001b[43m)\u001b[49m\n\u001b[0;32m     22\u001b[0m     \u001b[38;5;28;01mfrom\u001b[39;00m \u001b[38;5;21;01msqlalchemy\u001b[39;00m \u001b[38;5;28;01mimport\u001b[39;00m create_engine\n\u001b[0;32m     23\u001b[0m     \u001b[38;5;28;01mfrom\u001b[39;00m \u001b[38;5;21;01msqlalchemy\u001b[39;00m\u001b[38;5;21;01m.\u001b[39;00m\u001b[38;5;21;01morm\u001b[39;00m \u001b[38;5;28;01mimport\u001b[39;00m sessionmaker\n",
      "File \u001b[1;32m~\\AppData\\Local\\Programs\\Python\\Python313\\Lib\\site-packages\\chatterbot\\storage\\storage_adapter.py:22\u001b[0m, in \u001b[0;36mStorageAdapter.__init__\u001b[1;34m(self, *args, **kwargs)\u001b[0m\n\u001b[0;32m     18\u001b[0m \u001b[38;5;28mself\u001b[39m\u001b[38;5;241m.\u001b[39mlogger \u001b[38;5;241m=\u001b[39m kwargs\u001b[38;5;241m.\u001b[39mget(\u001b[38;5;124m'\u001b[39m\u001b[38;5;124mlogger\u001b[39m\u001b[38;5;124m'\u001b[39m, logging\u001b[38;5;241m.\u001b[39mgetLogger(\u001b[38;5;18m__name__\u001b[39m))\n\u001b[0;32m     20\u001b[0m Tagger \u001b[38;5;241m=\u001b[39m kwargs\u001b[38;5;241m.\u001b[39mget(\u001b[38;5;124m'\u001b[39m\u001b[38;5;124mtagger\u001b[39m\u001b[38;5;124m'\u001b[39m, PosLemmaTagger)\n\u001b[1;32m---> 22\u001b[0m \u001b[38;5;28mself\u001b[39m\u001b[38;5;241m.\u001b[39mtagger \u001b[38;5;241m=\u001b[39m \u001b[43mTagger\u001b[49m\u001b[43m(\u001b[49m\u001b[43mlanguage\u001b[49m\u001b[38;5;241;43m=\u001b[39;49m\u001b[43mkwargs\u001b[49m\u001b[38;5;241;43m.\u001b[39;49m\u001b[43mget\u001b[49m\u001b[43m(\u001b[49m\n\u001b[0;32m     23\u001b[0m \u001b[43m    \u001b[49m\u001b[38;5;124;43m'\u001b[39;49m\u001b[38;5;124;43mtagger_language\u001b[39;49m\u001b[38;5;124;43m'\u001b[39;49m\u001b[43m,\u001b[49m\u001b[43m \u001b[49m\u001b[43mlanguages\u001b[49m\u001b[38;5;241;43m.\u001b[39;49m\u001b[43mENG\u001b[49m\n\u001b[0;32m     24\u001b[0m \u001b[43m\u001b[49m\u001b[43m)\u001b[49m\u001b[43m)\u001b[49m\n",
      "File \u001b[1;32m~\\AppData\\Local\\Programs\\Python\\Python313\\Lib\\site-packages\\chatterbot\\tagging.py:20\u001b[0m, in \u001b[0;36mPosLemmaTagger.__init__\u001b[1;34m(self, language)\u001b[0m\n\u001b[0;32m     19\u001b[0m \u001b[38;5;28;01mdef\u001b[39;00m \u001b[38;5;21m__init__\u001b[39m(\u001b[38;5;28mself\u001b[39m, language\u001b[38;5;241m=\u001b[39m\u001b[38;5;28;01mNone\u001b[39;00m):\n\u001b[1;32m---> 20\u001b[0m     \u001b[38;5;28;01mimport\u001b[39;00m \u001b[38;5;21;01mspacy\u001b[39;00m\n\u001b[0;32m     22\u001b[0m     \u001b[38;5;28mself\u001b[39m\u001b[38;5;241m.\u001b[39mlanguage \u001b[38;5;241m=\u001b[39m language \u001b[38;5;129;01mor\u001b[39;00m languages\u001b[38;5;241m.\u001b[39mENG\n\u001b[0;32m     24\u001b[0m     \u001b[38;5;28mself\u001b[39m\u001b[38;5;241m.\u001b[39mpunctuation_table \u001b[38;5;241m=\u001b[39m \u001b[38;5;28mstr\u001b[39m\u001b[38;5;241m.\u001b[39mmaketrans(\u001b[38;5;28mdict\u001b[39m\u001b[38;5;241m.\u001b[39mfromkeys(string\u001b[38;5;241m.\u001b[39mpunctuation))\n",
      "\u001b[1;31mModuleNotFoundError\u001b[0m: No module named 'spacy'"
     ]
    }
   ],
   "source": [
    "kgp=ChatBot('Bot')"
   ]
  },
  {
   "cell_type": "code",
   "execution_count": null,
   "id": "40fb1d4d-3362-4994-a0b0-4ac76a908577",
   "metadata": {
    "scrolled": true
   },
   "outputs": [],
   "source": [
    "kgp.set_trainer(ListTrainer)"
   ]
  },
  {
   "cell_type": "code",
   "execution_count": 6,
   "id": "14d56e12-69e5-4651-a91d-bf6b7f2e784f",
   "metadata": {},
   "outputs": [
    {
     "name": "stdout",
     "output_type": "stream",
     "text": [
      "Error processing file C:\\Users\\syed ahmed peer\\Desktop\\chatterbot-corpus-master\\chatterbot_corpus\\data\\english\\ai.yml: name 'kgp' is not defined\n",
      "Error processing file C:\\Users\\syed ahmed peer\\Desktop\\chatterbot-corpus-master\\chatterbot_corpus\\data\\english\\botprofile.yml: name 'kgp' is not defined\n",
      "Error processing file C:\\Users\\syed ahmed peer\\Desktop\\chatterbot-corpus-master\\chatterbot_corpus\\data\\english\\computers.yml: name 'kgp' is not defined\n",
      "Error processing file C:\\Users\\syed ahmed peer\\Desktop\\chatterbot-corpus-master\\chatterbot_corpus\\data\\english\\conversations.yml: name 'kgp' is not defined\n",
      "Error processing file C:\\Users\\syed ahmed peer\\Desktop\\chatterbot-corpus-master\\chatterbot_corpus\\data\\english\\emotion.yml: name 'kgp' is not defined\n",
      "Error processing file C:\\Users\\syed ahmed peer\\Desktop\\chatterbot-corpus-master\\chatterbot_corpus\\data\\english\\food.yml: name 'kgp' is not defined\n",
      "Error processing file C:\\Users\\syed ahmed peer\\Desktop\\chatterbot-corpus-master\\chatterbot_corpus\\data\\english\\gossip.yml: name 'kgp' is not defined\n",
      "Error processing file C:\\Users\\syed ahmed peer\\Desktop\\chatterbot-corpus-master\\chatterbot_corpus\\data\\english\\greetings.yml: name 'kgp' is not defined\n",
      "Error processing file C:\\Users\\syed ahmed peer\\Desktop\\chatterbot-corpus-master\\chatterbot_corpus\\data\\english\\health.yml: name 'kgp' is not defined\n",
      "Error processing file C:\\Users\\syed ahmed peer\\Desktop\\chatterbot-corpus-master\\chatterbot_corpus\\data\\english\\history.yml: name 'kgp' is not defined\n",
      "Error processing file C:\\Users\\syed ahmed peer\\Desktop\\chatterbot-corpus-master\\chatterbot_corpus\\data\\english\\humor.yml: name 'kgp' is not defined\n",
      "Error processing file C:\\Users\\syed ahmed peer\\Desktop\\chatterbot-corpus-master\\chatterbot_corpus\\data\\english\\literature.yml: name 'kgp' is not defined\n",
      "Error processing file C:\\Users\\syed ahmed peer\\Desktop\\chatterbot-corpus-master\\chatterbot_corpus\\data\\english\\money.yml: name 'kgp' is not defined\n",
      "Error processing file C:\\Users\\syed ahmed peer\\Desktop\\chatterbot-corpus-master\\chatterbot_corpus\\data\\english\\movies.yml: name 'kgp' is not defined\n",
      "Error processing file C:\\Users\\syed ahmed peer\\Desktop\\chatterbot-corpus-master\\chatterbot_corpus\\data\\english\\politics.yml: name 'kgp' is not defined\n",
      "Error processing file C:\\Users\\syed ahmed peer\\Desktop\\chatterbot-corpus-master\\chatterbot_corpus\\data\\english\\psychology.yml: name 'kgp' is not defined\n",
      "Error processing file C:\\Users\\syed ahmed peer\\Desktop\\chatterbot-corpus-master\\chatterbot_corpus\\data\\english\\science.yml: name 'kgp' is not defined\n",
      "Error processing file C:\\Users\\syed ahmed peer\\Desktop\\chatterbot-corpus-master\\chatterbot_corpus\\data\\english\\sports.yml: name 'kgp' is not defined\n",
      "Error processing file C:\\Users\\syed ahmed peer\\Desktop\\chatterbot-corpus-master\\chatterbot_corpus\\data\\english\\trivia.yml: name 'kgp' is not defined\n"
     ]
    }
   ],
   "source": [
    "import os\n",
    "\n",
    "# Directory containing the data files\n",
    "data_dir = r'C:\\Users\\syed ahmed peer\\Desktop\\chatterbot-corpus-master\\chatterbot_corpus\\data\\english'\n",
    "\n",
    "# Iterate over files in the directory\n",
    "for f in os.listdir(data_dir):\n",
    "    file_path = os.path.join(data_dir, f)  # Properly construct the file path\n",
    "    try:\n",
    "        with open(file_path, 'r') as file:\n",
    "            data = file.readlines()\n",
    "            kgp.train(data)\n",
    "    except FileNotFoundError:\n",
    "        print(f\"File not found: {file_path}\")\n",
    "    except Exception as e:\n",
    "        print(f\"Error processing file {file_path}: {e}\")\n"
   ]
  },
  {
   "cell_type": "code",
   "execution_count": null,
   "id": "7ffb50e8-888c-4742-b784-fe2ffc332b4e",
   "metadata": {},
   "outputs": [],
   "source": [
    "kgp.get_response('wht is ai')"
   ]
  },
  {
   "cell_type": "code",
   "execution_count": null,
   "id": "fe5e9ec6-c3e8-4fd5-9ce3-b11ded94f866",
   "metadata": {},
   "outputs": [],
   "source": [
    "while True:\n",
    "    ip = input(\"Chat with the bot: \")\n",
    "    if ip.lower() == 'bye':\n",
    "        break\n",
    "    else:\n",
    "        reply = kgp.get_response(ip)\n",
    "        print('Bot reply:', reply)\n"
   ]
  },
  {
   "cell_type": "code",
   "execution_count": null,
   "id": "3e68c2ca-6c76-4826-a57e-665187834fb6",
   "metadata": {},
   "outputs": [],
   "source": []
  },
  {
   "cell_type": "code",
   "execution_count": null,
   "id": "46162960-965d-4956-abfa-dc2de9262e3d",
   "metadata": {},
   "outputs": [],
   "source": []
  },
  {
   "cell_type": "code",
   "execution_count": null,
   "id": "f66c81f2-e2df-43e9-8a8a-da60b8ea8d66",
   "metadata": {},
   "outputs": [],
   "source": []
  },
  {
   "cell_type": "code",
   "execution_count": null,
   "id": "ed74f8b0-792e-4cb5-8d17-1ef8ad098cc4",
   "metadata": {},
   "outputs": [],
   "source": []
  },
  {
   "cell_type": "code",
   "execution_count": null,
   "id": "cee15569-6dde-42e7-b909-65a07332522b",
   "metadata": {},
   "outputs": [],
   "source": []
  },
  {
   "cell_type": "code",
   "execution_count": null,
   "id": "fb1daff0-6f4d-4061-8f96-aed16787e5e2",
   "metadata": {},
   "outputs": [],
   "source": []
  },
  {
   "cell_type": "code",
   "execution_count": null,
   "id": "65d29391-47de-49ee-a9a9-0220a6d0c732",
   "metadata": {},
   "outputs": [],
   "source": []
  }
 ],
 "metadata": {
  "kernelspec": {
   "display_name": "Python 3 (ipykernel)",
   "language": "python",
   "name": "python3"
  },
  "language_info": {
   "codemirror_mode": {
    "name": "ipython",
    "version": 3
   },
   "file_extension": ".py",
   "mimetype": "text/x-python",
   "name": "python",
   "nbconvert_exporter": "python",
   "pygments_lexer": "ipython3",
   "version": "3.13.1"
  }
 },
 "nbformat": 4,
 "nbformat_minor": 5
}
