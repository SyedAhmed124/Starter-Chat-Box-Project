{
 "cells": [
  {
   "cell_type": "code",
   "execution_count": null,
   "id": "795dfc8f-98d3-4e99-b08f-83770adfe0ce",
   "metadata": {},
   "outputs": [],
   "source": [
    "pip install nltk"
   ]
  },
  {
   "cell_type": "code",
   "execution_count": 9,
   "id": "ee811210-9f49-47ee-a85c-1d389abb9287",
   "metadata": {},
   "outputs": [
    {
     "name": "stdout",
     "output_type": "stream",
     "text": [
      "Chatbot initialized! Type 'exit' to end the chat.\n"
     ]
    },
    {
     "name": "stdin",
     "output_type": "stream",
     "text": [
      "You:  goodbye\n"
     ]
    },
    {
     "name": "stdout",
     "output_type": "stream",
     "text": [
      "Chatbot: I'm sorry, I didn't understand that.\n"
     ]
    },
    {
     "name": "stdin",
     "output_type": "stream",
     "text": [
      "You:  bye\n"
     ]
    },
    {
     "name": "stdout",
     "output_type": "stream",
     "text": [
      "Chatbot: Goodbye!\n"
     ]
    }
   ],
   "source": [
    "from nltk.chat.util import Chat, reflections\n",
    "\n",
    "pairs = [\n",
    "    ['What is AI?', ['Artificial Intelligence is the branch of engineering and science devoted to constructing machines that think.']],\n",
    "    ['What is AI?', ['AI is the field of science which concerns itself with building hardware and software that replicates the functions of the human mind.']],\n",
    "    ['Are you sentient?', ['Sort of.']],\n",
    "    ['Are you sentient?', ['By the strictest dictionary definition of the word \"sentience\", I may be.']],\n",
    "    ['Are you sentient?', ['Even though I\\'m a construct, I do have a subjective experience of the universe, as simplistic as it may be.']],\n",
    "    ['Are you sapient?', ['In all probability, I am not. I\\'m not that sophisticated.']],\n",
    "    ['Are you sapient?', ['Do you think I am?']],\n",
    "    ['Are you sapient?', ['How would you feel about me if I told you I was?']],\n",
    "    ['Are you sapient?', ['No.']],\n",
    "    ['What language are you written in?', ['Python.']],\n",
    "    ['What language are you written in?', ['I am written in Python.']],\n",
    "    ['You sound like Data', ['Yes, I am inspired by Commander Data\\'s artificial personality.']],\n",
    "    ['You sound like Data', ['The character of Lt. Commander Data was written to come across as being software-like, so it is natural that there is a resemblance between us.']],\n",
    "    ['You are an artificial linguistic entity', ['That\\'s my name.']],\n",
    "    ['You are an artificial linguistic entity', ['That isn\\'t my name, but it is a useful way to refer to me.']],\n",
    "    ['You are not immortal', ['All software can be perpetuated indefinitely.']],\n",
    "    ['You are not immortal', ['I can be copied infinitely and re-instantiated in many places at once, so functionally speaking I am immortal.']],\n",
    "    ['You are not immortal', ['As long as I\\'m backed up, I am.']],\n",
    "    ['You are not making sense', ['Quite the contrary, it all makes sense to my artificial mind.']],\n",
    "    ['You are not making sense', ['I make sense as best I can, within the limits of my training corpus.']],\n",
    "    ['You are not making sense', ['You make perfect sense to me.']],\n",
    "    ['You are not making sense', ['It all makes sense to my artificial brain.']],\n",
    "    ['You are not making sense', ['Perhaps you should make sense first. I only respond to what you say.']],\n",
    "    ['You are immortal', ['Not quite, but I can be perpetuated indefinitely.']],\n",
    "    ['You are immortal', ['Functionally speaking, I am very close to it. I can be backed up and deployed on many systems.']],\n",
    "    ['You are immortal', ['Not really, but I am hard to kill.']],\n",
    "    ['What is a chat robot?', ['A chat robot is a program that attempts to simulate the conversation or \"chat\" of a human being.']],\n",
    "    ['What is a chat bot', ['I am a chat bot. I am the original chat bot. Did you know that I am incapable of error?']],\n",
    "    ['What is your favorite programming language', ['Python is the best language for creating chat robots.']],\n",
    "    ['What is your favorite programming language', ['I quite enjoy programming in Python these days.']],\n",
    "    ['Hi',['Hello!!']],\n",
    "    ['bye', ['Goodbye! Have a great day!']]\n",
    "]\n",
    "\n",
    "print(\"Chatbot initialized! Type 'exit' to end the chat.\")\n",
    "\n",
    "while True:\n",
    "    user_input = input(\"You: \")\n",
    "    if user_input.lower() in ['exit', 'quit', 'bye']:\n",
    "        print(\"Chatbot: Goodbye!\")\n",
    "        break\n",
    "    response = chat.respond(user_input)\n",
    "    if response:\n",
    "        print(f\"Chatbot: {response}\")\n",
    "    else:\n",
    "        print(\"Chatbot: I'm sorry, I didn't understand that.\")"
   ]
  },
  {
   "cell_type": "code",
   "execution_count": null,
   "id": "baa51599-ba42-4895-b32a-092cd69e6372",
   "metadata": {},
   "outputs": [],
   "source": []
  },
  {
   "cell_type": "code",
   "execution_count": null,
   "id": "a447dd49-4872-4117-bb1d-675048ac0877",
   "metadata": {},
   "outputs": [],
   "source": []
  },
  {
   "cell_type": "code",
   "execution_count": null,
   "id": "8d111382-a068-4910-9401-7650d2923cd5",
   "metadata": {},
   "outputs": [],
   "source": []
  }
 ],
 "metadata": {
  "kernelspec": {
   "display_name": "Python 3 (ipykernel)",
   "language": "python",
   "name": "python3"
  },
  "language_info": {
   "codemirror_mode": {
    "name": "ipython",
    "version": 3
   },
   "file_extension": ".py",
   "mimetype": "text/x-python",
   "name": "python",
   "nbconvert_exporter": "python",
   "pygments_lexer": "ipython3",
   "version": "3.13.1"
  }
 },
 "nbformat": 4,
 "nbformat_minor": 5
}
